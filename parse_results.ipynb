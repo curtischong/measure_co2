{
 "cells": [
  {
   "cell_type": "code",
   "execution_count": 41,
   "metadata": {},
   "outputs": [],
   "source": [
    "import os\n",
    "import numpy as np\n",
    "from scipy import stats"
   ]
  },
  {
   "cell_type": "code",
   "execution_count": 62,
   "metadata": {},
   "outputs": [
    {
     "name": "stdout",
     "output_type": "stream",
     "text": [
      "se_lounge1.txt (31, 3)\n",
      "se_lab.txt (31, 3)\n",
      "cs_club.txt (31, 3)\n",
      "dc_lib_lower.txt (31, 3)\n",
      "dc_lib_upper.txt (31, 3)\n",
      "mc_coffee_and_doughnuts.txt (31, 3)\n"
     ]
    }
   ],
   "source": [
    "path = 'readings/'\n",
    "\n",
    "# Read every file in directory\n",
    "readings = []\n",
    "for filename in os.listdir(path):\n",
    "    with open(path + filename, \"r\") as c:\n",
    "        data = np.loadtxt(c, delimiter='\\t')\n",
    "        print(filename, hi.shape)\n",
    "        readings.append(data)"
   ]
  },
  {
   "cell_type": "code",
   "execution_count": 81,
   "metadata": {},
   "outputs": [],
   "source": [
    "def get_stats(vals):\n",
    "    n = len(vals)\n",
    "    #vals = np.asarray(file).reshape((n,-1)) \n",
    "    #print(vals)\n",
    "    #print(vals.shape)\n",
    "    \n",
    "    # Get readings\n",
    "    ana = vals[:,0]\n",
    "    pwm = vals[:,1]\n",
    "    ser = vals[:,2]\n",
    "    \n",
    "    # Get stats\n",
    "    #for arr in ana: #do not need the loop at this point, but looks prettier\n",
    "    print(\"minmax: %s\" % str(stats.describe(ana).minmax))\n",
    "    print(\"mean: %s\" % str(stats.describe(ana).mean))"
   ]
  },
  {
   "cell_type": "code",
   "execution_count": 82,
   "metadata": {
    "scrolled": true
   },
   "outputs": [
    {
     "name": "stdout",
     "output_type": "stream",
     "text": [
      "minmax: (185.0, 964.0)\n",
      "mean: 803.1612903225806\n"
     ]
    }
   ],
   "source": [
    "get_stats(readings[0])"
   ]
  },
  {
   "cell_type": "code",
   "execution_count": null,
   "metadata": {},
   "outputs": [],
   "source": []
  }
 ],
 "metadata": {
  "kernelspec": {
   "display_name": "Python 3",
   "language": "python",
   "name": "python3"
  },
  "language_info": {
   "codemirror_mode": {
    "name": "ipython",
    "version": 3
   },
   "file_extension": ".py",
   "mimetype": "text/x-python",
   "name": "python",
   "nbconvert_exporter": "python",
   "pygments_lexer": "ipython3",
   "version": "3.6.5"
  }
 },
 "nbformat": 4,
 "nbformat_minor": 2
}
