{
 "cells": [
  {
   "cell_type": "code",
   "execution_count": 2,
   "metadata": {},
   "outputs": [
    {
     "data": {
      "text/html": [
       "        <script type=\"text/javascript\">\n",
       "        window.PlotlyConfig = {MathJaxConfig: 'local'};\n",
       "        if (window.MathJax) {MathJax.Hub.Config({SVG: {font: \"STIX-Web\"}});}\n",
       "        if (typeof require !== 'undefined') {\n",
       "        require.undef(\"plotly\");\n",
       "        requirejs.config({\n",
       "            paths: {\n",
       "                'plotly': ['https://cdn.plot.ly/plotly-latest.min']\n",
       "            }\n",
       "        });\n",
       "        require(['plotly'], function(Plotly) {\n",
       "            window._Plotly = Plotly;\n",
       "        });\n",
       "        }\n",
       "        </script>\n",
       "        "
      ]
     },
     "metadata": {},
     "output_type": "display_data"
    }
   ],
   "source": [
    "import os\n",
    "import numpy as np\n",
    "from scipy import stats\n",
    "\n",
    "import plotly.graph_objs as go\n",
    "from plotly.offline import download_plotlyjs, init_notebook_mode, plot, iplot\n",
    "\n",
    "init_notebook_mode(connected=True)"
   ]
  },
  {
   "cell_type": "code",
   "execution_count": 3,
   "metadata": {},
   "outputs": [
    {
     "name": "stdout",
     "output_type": "stream",
     "text": [
      "outdoors_umbrellas_tatum_center.txt (31, 3)\n",
      "se_lounge1.txt (31, 3)\n",
      "outdoors_calibrated.txt (31, 3)\n",
      "m3_third_floor.txt (32, 3)\n",
      "se_lab.txt (31, 3)\n",
      "cs_club.txt (31, 3)\n",
      "quantum_windows.txt (31, 3)\n",
      "dc_lib_lower.txt (31, 3)\n",
      "stc_second_floor.txt (31, 3)\n",
      "dc_lib_upper.txt (31, 3)\n",
      "stc_starbucks.txt (32, 3)\n",
      "mc_coffee_and_doughnuts.txt (31, 3)\n"
     ]
    }
   ],
   "source": [
    "path = 'readings/'\n",
    "\n",
    "# Read every file in directory\n",
    "readings = []\n",
    "for filename in os.listdir(path):\n",
    "    with open(path + filename, \"r\") as c:\n",
    "        data = np.loadtxt(c, delimiter='\\t')\n",
    "        print(filename, data.shape)\n",
    "        readings.append(data)"
   ]
  },
  {
   "cell_type": "code",
   "execution_count": 11,
   "metadata": {},
   "outputs": [],
   "source": [
    "def get_stats(vals):\n",
    "    n = len(vals)\n",
    "    #vals = np.asarray(file).reshape((n,-1)) \n",
    "    #print(vals)\n",
    "    #print(vals.shape)\n",
    "    \n",
    "    # Get readings\n",
    "    ana = vals[:,0]\n",
    "    pwm = vals[:,1]\n",
    "    ser = vals[:,2]\n",
    "    \n",
    "    # Get stats\n",
    "    #for arr in ana: #do not need the loop at this point, but looks prettier\n",
    "    print(\"minmax: %s\" % str(stats.describe(ana).minmax))\n",
    "    print(\"mean: %s\" % str(stats.describe(ana).mean))\n",
    "    print(ser[:5])"
   ]
  },
  {
   "cell_type": "code",
   "execution_count": 12,
   "metadata": {},
   "outputs": [
    {
     "name": "stdout",
     "output_type": "stream",
     "text": [
      "minmax: (-73.0, 2873.0)\n",
      "mean: 660.2903225806451\n",
      "[ -1. 410. 410. 410. 410.]\n",
      "minmax: (185.0, 964.0)\n",
      "mean: 803.1612903225806\n",
      "[410. 410. 410. 410. 410.]\n",
      "minmax: (-73.0, 3148.0)\n",
      "mean: 432.7096774193548\n",
      "[410. 410. 410. 410. 410.]\n",
      "minmax: (-73.0, 2675.0)\n",
      "mean: 911.28125\n",
      "[ -1. 410. 410. 410. 410.]\n",
      "minmax: (307.0, 796.0)\n",
      "mean: 701.9677419354839\n",
      "[410. 410. 410. 410. 886.]\n",
      "minmax: (-486.0, 995.0)\n",
      "mean: 800.1290322580645\n",
      "[ -1. 430. 410. 410. 410.]\n",
      "minmax: (-73.0, 2660.0)\n",
      "mean: 874.516129032258\n",
      "[ -1. 410. 410. 410. 410.]\n",
      "minmax: (-73.0, 2644.0)\n",
      "mean: 761.0322580645161\n",
      "[ -1. 410. 410. 410. 410.]\n",
      "minmax: (-486.0, 1056.0)\n",
      "mean: 857.3870967741935\n",
      "[ -1. 430. 410. 410. 410.]\n",
      "minmax: (-73.0, 2782.0)\n",
      "mean: 856.8064516129032\n",
      "[ -1. 410. 410. 410. 410.]\n",
      "minmax: (-73.0, 2690.0)\n",
      "mean: 890.15625\n",
      "[ -1. 410. 410. 410. 410.]\n",
      "minmax: (-486.0, 1270.0)\n",
      "mean: 968.6774193548387\n",
      "[ -1. 430. 410. 410. 410.]\n"
     ]
    }
   ],
   "source": [
    "for x in range(len(readings)):\n",
    "    get_stats(readings[x])\n",
    "    x_time = [i * 10 for i in range(len(readings[0]))] # time in seconds"
   ]
  },
  {
   "cell_type": "code",
   "execution_count": 7,
   "metadata": {},
   "outputs": [],
   "source": [
    "x_time = [i * 10 for i in range(len(readings[0]))] # time in seconds"
   ]
  },
  {
   "cell_type": "code",
   "execution_count": 8,
   "metadata": {},
   "outputs": [
    {
     "data": {
      "application/vnd.plotly.v1+json": {
       "config": {
        "linkText": "Export to plot.ly",
        "plotlyServerURL": "https://plot.ly",
        "showLink": false
       },
       "data": [
        {
         "type": "scatter",
         "uid": "19b2f445-53fd-4fe3-a9a1-9da9983ccda6",
         "x": [
          0,
          10,
          20,
          30,
          40,
          50,
          60,
          70,
          80,
          90,
          100,
          110,
          120,
          130,
          140,
          150,
          160,
          170,
          180,
          190,
          200,
          210,
          220,
          230,
          240,
          250,
          260,
          270,
          280,
          290,
          300
         ],
         "y": [
          -1,
          410,
          410,
          410,
          410,
          410,
          410,
          798,
          798,
          795,
          789,
          786,
          786,
          784,
          785,
          782,
          774,
          765,
          760,
          756,
          754,
          752,
          752,
          754,
          757,
          757,
          754,
          747,
          743,
          741,
          738
         ]
        }
       ],
       "layout": {}
      },
      "text/html": [
       "<div>\n",
       "        \n",
       "        \n",
       "            <div id=\"640cd52a-8f48-4d5d-bc41-0b23653b9bf5\" class=\"plotly-graph-div\" style=\"height:525px; width:100%;\"></div>\n",
       "            <script type=\"text/javascript\">\n",
       "                require([\"plotly\"], function(Plotly) {\n",
       "                    window.PLOTLYENV=window.PLOTLYENV || {};\n",
       "                    window.PLOTLYENV.BASE_URL='https://plot.ly';\n",
       "                    \n",
       "                if (document.getElementById(\"640cd52a-8f48-4d5d-bc41-0b23653b9bf5\")) {\n",
       "                    Plotly.newPlot(\n",
       "                        '640cd52a-8f48-4d5d-bc41-0b23653b9bf5',\n",
       "                        [{\"type\": \"scatter\", \"uid\": \"19b2f445-53fd-4fe3-a9a1-9da9983ccda6\", \"x\": [0, 10, 20, 30, 40, 50, 60, 70, 80, 90, 100, 110, 120, 130, 140, 150, 160, 170, 180, 190, 200, 210, 220, 230, 240, 250, 260, 270, 280, 290, 300], \"y\": [-1.0, 410.0, 410.0, 410.0, 410.0, 410.0, 410.0, 798.0, 798.0, 795.0, 789.0, 786.0, 786.0, 784.0, 785.0, 782.0, 774.0, 765.0, 760.0, 756.0, 754.0, 752.0, 752.0, 754.0, 757.0, 757.0, 754.0, 747.0, 743.0, 741.0, 738.0]}],\n",
       "                        {},\n",
       "                        {\"showLink\": false, \"linkText\": \"Export to plot.ly\", \"plotlyServerURL\": \"https://plot.ly\", \"responsive\": true}\n",
       "                    ).then(function(){\n",
       "                            \n",
       "var gd = document.getElementById('640cd52a-8f48-4d5d-bc41-0b23653b9bf5');\n",
       "var x = new MutationObserver(function (mutations, observer) {{\n",
       "        var display = window.getComputedStyle(gd).display;\n",
       "        if (!display || display === 'none') {{\n",
       "            console.log([gd, 'removed!']);\n",
       "            Plotly.purge(gd);\n",
       "            observer.disconnect();\n",
       "        }}\n",
       "}});\n",
       "\n",
       "// Listen for the removal of the full notebook cells\n",
       "var notebookContainer = gd.closest('#notebook-container');\n",
       "if (notebookContainer) {{\n",
       "    x.observe(notebookContainer, {childList: true});\n",
       "}}\n",
       "\n",
       "// Listen for the clearing of the current output cell\n",
       "var outputEl = gd.closest('.output');\n",
       "if (outputEl) {{\n",
       "    x.observe(outputEl, {childList: true});\n",
       "}}\n",
       "\n",
       "                        })\n",
       "                };\n",
       "                });\n",
       "            </script>\n",
       "        </div>"
      ]
     },
     "metadata": {},
     "output_type": "display_data"
    }
   ],
   "source": [
    "iplot([{\"x\": x_time, \"y\": readings[0][:,2]}])"
   ]
  },
  {
   "cell_type": "code",
   "execution_count": null,
   "metadata": {},
   "outputs": [],
   "source": []
  }
 ],
 "metadata": {
  "kernelspec": {
   "display_name": "Python 3",
   "language": "python",
   "name": "python3"
  },
  "language_info": {
   "codemirror_mode": {
    "name": "ipython",
    "version": 3
   },
   "file_extension": ".py",
   "mimetype": "text/x-python",
   "name": "python",
   "nbconvert_exporter": "python",
   "pygments_lexer": "ipython3",
   "version": "3.6.5"
  }
 },
 "nbformat": 4,
 "nbformat_minor": 2
}
